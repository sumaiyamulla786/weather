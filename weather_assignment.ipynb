{
 "cells": [
  {
   "cell_type": "code",
   "execution_count": 7,
   "metadata": {},
   "outputs": [],
   "source": [
    "# data visualization using matplotlib"
   ]
  },
  {
   "cell_type": "code",
   "execution_count": 8,
   "metadata": {},
   "outputs": [],
   "source": [
    "import requests, json, math, datetime"
   ]
  },
  {
   "cell_type": "code",
   "execution_count": 9,
   "metadata": {},
   "outputs": [],
   "source": [
    "from matplotlib import pyplot as plt "
   ]
  },
  {
   "cell_type": "code",
   "execution_count": 10,
   "metadata": {},
   "outputs": [],
   "source": [
    "lat = 21.3145\n",
    "lon = 76.2180\n",
    "\n"
   ]
  },
  {
   "cell_type": "code",
   "execution_count": 11,
   "metadata": {},
   "outputs": [],
   "source": [
    "data = requests.get(\"https://api.openweathermap.org/data/2.5/onecall?lat=\"+str(lat)+\"&lon=\"+str(lon)+\"&appid=bad08493d0542f6af1188fcbd122984a&exclude=hourly,current,minutely\")\n",
    "weather_data = json.loads(data.content)\n"
   ]
  },
  {
   "cell_type": "code",
   "execution_count": 12,
   "metadata": {},
   "outputs": [],
   "source": [
    "# convert temparature in kelvin to celsius\n",
    "def kelvin_to_celsius(n):\n",
    "    if n == 273.15:\n",
    "        return 0\n",
    "    elif n > 273.15:\n",
    "        return math.ceil(n - 273.15)\n",
    "    else:\n",
    "        return math.ceil(273.15 - n)\n"
   ]
  },
  {
   "cell_type": "code",
   "execution_count": 6,
   "metadata": {},
   "outputs": [],
   "source": [
    "# Get useful data for graph representation\n",
    "def get_graph_data(weather_data):\n",
    "    graph_data = {}\n",
    "    date, temp_min, temp_max, humidity, weather_description, wind_speed = list(), list(), list(), list(), list(), list()\n",
    "    title_date = datetime.datetime.fromtimestamp(weather_data[\"daily\"][0][\"dt\"])\n",
    "    xlabel_title = \"days (\" + title_date.strftime('%Y - %B') + \")\"\n",
    "    for i in weather_data[\"daily\"]:\n",
    "        timestamp = datetime.datetime.fromtimestamp(i[\"dt\"])\n",
    "        date.append(timestamp.strftime('%d'))\n",
    "        temp_min.append(str(kelvin_to_celsius(i[\"temp\"][\"min\"])))\n",
    "        temp_max.append(str(kelvin_to_celsius(i[\"temp\"][\"max\"])))\n",
    "        humidity.append(i[\"humidity\"])\n",
    "        weather_description.append(i[\"weather\"][0][\"description\"])\n",
    "        wind_speed.append(i[\"wind_speed\"])\n",
    "    \n",
    "    graph_data[\"date\"]  = date\n",
    "    graph_data[\"humidity\"]  = humidity\n",
    "    graph_data[\"temp_min\"]  = temp_min\n",
    "    graph_data[\"temp_max\"]  = temp_max\n",
    "    graph_data[\"weather_description\"]  = weather_description\n",
    "    graph_data[\"wind_speed\"]  = wind_speed\n",
    "    graph_data[\"xlabel_title\"]  = xlabel_title\n",
    "\n",
    "    return graph_data\n"
   ]
  },
  {
   "cell_type": "code",
   "execution_count": 1,
   "metadata": {},
   "outputs": [],
   "source": [
    "#plot and show temparature and Humidity graphs\n",
    "\n",
    "def show_graphs(weather_data):\n",
    "    graph_data = get_graph_data(weather_data)\n",
    "    temparature_fig = plt.figure(1)\n",
    "    \n",
    "    # Plot figure for temperature\n",
    "    plt.plot(graph_data[\"date\"], graph_data[\"temp_min\"], label = \"temp_min\")\n",
    "    plt.plot(graph_data[\"date\"], graph_data[\"temp_max\"], label = \"temp_max\")\n",
    "    plt.xlabel(graph_data[\"xlabel_title\"])\n",
    "    plt.ylabel(\"Temperature(C)\")\n",
    "    plt.title('Temperature forecast!')\n",
    "    plt.legend()\n",
    "    temparature_fig.show()\n",
    "    \n",
    "    humidity_fig = plt.figure(2)\n",
    "    # Plot figure for humidity \n",
    "    plt.plot(graph_data[\"date\"], graph_data[\"humidity\"], 'o-', color = \"blue\", label = \"humidity\")\n",
    "    plt.xlabel(graph_data[\"xlabel_title\"])\n",
    "    plt.ylabel(\"Humidity(%) \")\n",
    "    plt.title('Humidity forecast!')\n",
    "    plt.legend()\n",
    "    humidity_fig.show()\n",
    "\n",
    "    input()\n",
    "    "
   ]
  },
  {
   "cell_type": "code",
   "execution_count": null,
   "metadata": {},
   "outputs": [],
   "source": []
  },
  {
   "cell_type": "code",
   "execution_count": null,
   "metadata": {},
   "outputs": [
    {
     "name": "stderr",
     "output_type": "stream",
     "text": [
      "<ipython-input-7-c75945a88bb4>:14: UserWarning: Matplotlib is currently using module://ipykernel.pylab.backend_inline, which is a non-GUI backend, so cannot show the figure.\n",
      "  temparature_fig.show()\n",
      "<ipython-input-7-c75945a88bb4>:25: UserWarning: Matplotlib is currently using module://ipykernel.pylab.backend_inline, which is a non-GUI backend, so cannot show the figure.\n",
      "  humidity_fig.show()\n"
     ]
    }
   ],
   "source": [
    "show_graphs(weather_data)"
   ]
  },
  {
   "cell_type": "code",
   "execution_count": null,
   "metadata": {},
   "outputs": [],
   "source": []
  }
 ],
 "metadata": {
  "kernelspec": {
   "display_name": "Python 3",
   "language": "python",
   "name": "python3"
  },
  "language_info": {
   "codemirror_mode": {
    "name": "ipython",
    "version": 3
   },
   "file_extension": ".py",
   "mimetype": "text/x-python",
   "name": "python",
   "nbconvert_exporter": "python",
   "pygments_lexer": "ipython3",
   "version": "3.8.3"
  }
 },
 "nbformat": 4,
 "nbformat_minor": 4
}
